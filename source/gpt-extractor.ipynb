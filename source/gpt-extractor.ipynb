{
 "cells": [
  {
   "cell_type": "code",
   "execution_count": 1,
   "source": [
    "import os\r\n",
    "import openai\r\n",
    "import pandas as pd\r\n",
    "import numpy as np\r\n",
    "from pubmed import search as pubmed\r\n",
    "from tqdm import tqdm\r\n",
    "import pickle\r\n",
    "import time\r\n",
    "import glob\r\n",
    "openai.organization = \"your_organization\"\r\n",
    "openai.api_key = \"API_key\"\r\n",
    "#openai.Model.list()"
   ],
   "outputs": [],
   "metadata": {}
  },
  {
   "cell_type": "code",
   "execution_count": 7,
   "source": [
    "pmids_df = pd.read_excel(\"chatgpt-input-data/original_tau_pmids.xlsx\")\r\n",
    "# print(pmids_df)\r\n",
    "pmids = pmids_df[\"pmid\"]\r\n",
    "unique_pmids = list(set(list(pmids)))\r\n",
    "# print(len(unique_pmids))"
   ],
   "outputs": [],
   "metadata": {}
  },
  {
   "cell_type": "code",
   "execution_count": 9,
   "source": [
    "#Extract abstracts\r\n",
    "abstracts = {}\r\n",
    "errors = []\r\n",
    "for pmid in tqdm(unique_pmids):\r\n",
    "   pubmed_uri  = 'https://eutils.ncbi.nlm.nih.gov/entrez/eutils/'\r\n",
    "   uri = pubmed_uri + 'efetch.fcgi?db=pubmed&id='+str(pmid)+'&retmode=XML'\r\n",
    "   pdocs = pubmed.fetch_pubmed_by_id(pubmed_uri, str(pmid))\r\n",
    "   # print(\" >>>> title =\", pubmed.get_title_of_document(pdocs, 0))\r\n",
    "   try:\r\n",
    "      abstract = pubmed.get_abstract_of_document(pdocs, 0)\r\n",
    "      #print(\"Type of asbtract is\", type (abstract))        \r\n",
    "      if (type (abstract) is str):\r\n",
    "            text = abstract\r\n",
    "      if isinstance(abstract, list):\r\n",
    "            abstract_ = \"\"\r\n",
    "            # print(\"ordered dictionary is the abstract\")\r\n",
    "            try:\r\n",
    "               for row in abstract:\r\n",
    "                  for key , value in (row.items()):\r\n",
    "                        if (key == '#text'):\r\n",
    "                           abstract_ = abstract_ + value\r\n",
    "               text = abstract_\r\n",
    "               # print(\"Successufully parsed pubmed dictioanry file\")          \r\n",
    "            except :\r\n",
    "               print(\"error while parsing dictionary)\")\r\n",
    "      if isinstance(abstract, bytes):\r\n",
    "          print(pmid)\r\n",
    "          text = abstract.decode()\r\n",
    "      abstracts[pmid] = text\r\n",
    "   except KeyError:\r\n",
    "      print(pmid)\r\n",
    "      continue\r\n",
    "\r\n",
    "\r\n",
    "   \r\n",
    "   # with open('abstracts-checked.pkl', 'wb') as handle:\r\n",
    "   #  pickle.dump(abstracts, handle, protocol=pickle.HIGHEST_PROTOCOL)"
   ],
   "outputs": [
    {
     "output_type": "stream",
     "name": "stderr",
     "text": [
      "100%|██████████| 256/256 [02:34<00:00,  1.66it/s]\n"
     ]
    }
   ],
   "metadata": {}
  },
  {
   "cell_type": "code",
   "execution_count": null,
   "source": [],
   "outputs": [],
   "metadata": {}
  },
  {
   "cell_type": "code",
   "execution_count": 2,
   "source": [
    "#Re run on non processed abstracts\r\n",
    "import glob\r\n",
    "import time\r\n",
    "path = r\"rerun\"\r\n",
    "file_list = glob.glob(path + \"/*.txt\")\r\n",
    "for file in tqdm(file_list):\r\n",
    "   file_name = os.path.basename(file)\r\n",
    "   name = os.path.splitext(file_name)[0]\r\n",
    "   messages = [ {\"role\": \"system\", \"content\": 'Extract BEL Triples:\\n- Your task is to extract Biological Expression Language (BEL) triples from provided text.\\n- A BEL triple consists of three components: subject, relation, and object.\\nThe subject and object should be entities categorized into specific namespaces, such as MESH for diseases or biological processes, HGNC for genes, GO for gene functions, and CHEBI for chemicals.\\n- Each subject or object should be preceded by one of the BEL functions: abundance, activity, biologicalProcess, pathology, proteinAbundance, variant.\\n- The relation between subject and object should be chosen from the following list: increase, decrease, positiveCorrelation, negativeCorrelation, analogous, association, biomarkerFor, causesNoChange, directlyDecreases, directlyIncreases, hasActivity, hasComponent, hasComponents, hasMember, hasMembers, increases, isA, orthologous, prognosticBiomarkerFor, rateLimitingStepOf, regulates, subProcessOf, transcribedTo, translatedTo.\\n- Please provide the support evidence by including the sentence that contains the extracted BEL triple.\\n- Use  Namespaces to unambiguously reference concepts. \\n- Associate prefix HGNC for human loci, including protein coding genes, ncRNA genes and pseudogenes.\\n- Associate prefix CHEBI for molecular entities focused on small chemical compounds.\\n- Associate prefix GO to unify the representation of gene and gene product attributes across all species.\\n- Associate prefix MeSH for indexing articles for PubMed.\\n- Associate prefix miRBase which is a biological database that acts as an archive of microRNA sequences and annotations before miRNA names.\\n- Associate prefix MGI which is official gene symbol for a mouse gene.\\n- Associate prefix DO as a standardized ontology for human disease.\\n- Before each subject or object, use one of the BEL functions from the following: abundance, activity, biologicalProcess, pathology, proteinAbundance, variant.\\n\\nExample Triple:\\nTriple1:\\nsubject: biologicalProcess(GO:\"response to fluid shear stress\")\\nrelation: increases\\nobject: rnaAbundance(HGNC:NOS3)\\nsupport evidence: NO is generated by endothelial NO synthase (eNOS, or NOS3), the activity of which is increased by fluid shear stress through various mechanisms.\\n(Note: Ensure that the extracted BEL triples adhere to the specified format and namespaces.)'} ]\r\n",
    "   pmid = name\r\n",
    "   pubmed_uri  = 'https://eutils.ncbi.nlm.nih.gov/entrez/eutils/'\r\n",
    "   uri = pubmed_uri + 'efetch.fcgi?db=pubmed&id='+str(pmid)+'&retmode=XML'\r\n",
    "   pdocs = pubmed.fetch_pubmed_by_id(pubmed_uri, str(pmid))\r\n",
    "   # print(\" >>>> title =\", pubmed.get_title_of_document(pdocs, 0))\r\n",
    "   try:\r\n",
    "      abstract = pubmed.get_abstract_of_document(pdocs, 0)\r\n",
    "      # print(\"Type of asbtract is\", type (abstract))        \r\n",
    "      if (type (abstract) is str):\r\n",
    "            text = abstract\r\n",
    "      if isinstance(abstract, list):\r\n",
    "            abstract_ = \"\"\r\n",
    "            # print(\"ordered dictionary is the abstract\")\r\n",
    "            try:\r\n",
    "               for row in abstract:\r\n",
    "                  for key , value in (row.items()):\r\n",
    "                        if (key == '#text'):\r\n",
    "                           abstract_ = abstract_ + value\r\n",
    "               text = abstract_\r\n",
    "               print(\"Successufully parsed pubmed dictioanry file\")          \r\n",
    "            except :\r\n",
    "               print(\"error while parsing dictionary)\")\r\n",
    "   except KeyError:\r\n",
    "            print(KeyError)\r\n",
    "   try:\r\n",
    "      time.sleep(2)\r\n",
    "      temperature = 0\r\n",
    "      message = \"Extract all BEL triples for each sentence and provide support evidence for each triple from the following :\" + text            \r\n",
    "      if message:\r\n",
    "            messages.append(\r\n",
    "            {\"role\": \"user\", \"content\": message},)\r\n",
    "            chat = openai.ChatCompletion.create(temperature, model=\"gpt-4\", messages=messages, )\r\n",
    "            ''''''\r\n",
    "      #model=\"gpt-3.5-turbo\"\r\n",
    "      reply = chat.choices[0].message.content\r\n",
    "      messages.append({\"role\": \"assistant\", \"content\": reply})\r\n",
    "      file = open(str(pmid)+\".txt\", \"w\", encoding='utf-8')\r\n",
    "      file.write(reply)\r\n",
    "      file.close()\r\n",
    "   except Exception as e:\r\n",
    "      print(e)"
   ],
   "outputs": [
    {
     "output_type": "stream",
     "name": "stderr",
     "text": [
      " 23%|██▎       | 6/26 [04:14<13:58, 41.93s/it]"
     ]
    },
    {
     "output_type": "stream",
     "name": "stdout",
     "text": [
      "Successufully parsed pubmed dictioanry file\n"
     ]
    },
    {
     "output_type": "stream",
     "name": "stderr",
     "text": [
      "100%|██████████| 26/26 [20:39<00:00, 47.66s/it]\n"
     ]
    }
   ],
   "metadata": {}
  },
  {
   "cell_type": "code",
   "execution_count": 2,
   "source": [
    "#Test individual abstract\r\n",
    "abstracts = {}\r\n",
    "pmid = 10464280\r\n",
    "pubmed_uri  = 'https://eutils.ncbi.nlm.nih.gov/entrez/eutils/'\r\n",
    "uri = pubmed_uri + 'efetch.fcgi?db=pubmed&id='+str(pmid)+'&retmode=XML'\r\n",
    "pdocs = pubmed.fetch_pubmed_by_id(pubmed_uri, str(pmid))\r\n",
    "# print(\" >>>> title =\", pubmed.get_title_of_document(pdocs, 0))\r\n",
    "try:\r\n",
    "   abstract = pubmed.get_abstract_of_document(pdocs, 0)\r\n",
    "   # print(\"Type of asbtract is\", type (abstract))        \r\n",
    "   if (type (abstract) is str):\r\n",
    "         text = abstract\r\n",
    "   if isinstance(abstract, list):\r\n",
    "         abstract_ = \"\"\r\n",
    "         # print(\"ordered dictionary is the abstract\")\r\n",
    "         try:\r\n",
    "            for row in abstract:\r\n",
    "               for key , value in (row.items()):\r\n",
    "                     if (key == '#text'):\r\n",
    "                        abstract_ = abstract_ + value\r\n",
    "            text = abstract_\r\n",
    "            # print(\"Successufully parsed pubmed dictioanry file\")          \r\n",
    "         except :\r\n",
    "            print(\"error while parsing dictionary)\")\r\n",
    "   abstracts[pmid] = text\r\n",
    "except KeyError:\r\n",
    "   print(KeyError)\r\n",
    "\r\n",
    "for i in tqdm(range(10)):\r\n",
    "   try:\r\n",
    "      messages = [ {\"role\": \"system\",\r\n",
    " \"content\": 'Extract BEL Triples:\\n- Your task is to extract Biological Expression Language (BEL) triples from provided text.\\n- A BEL triple consists of three components: subject, relation, and object and support sentence.\\nThe subject and object should be entities categorized into specific namespaces, such as MESH for diseases or biological processes, HGNC for genes, GO for gene functions, and CHEBI for chemicals.\\n- Each subject or object should be preceded by one of the BEL functions: abundance, activity, biologicalProcess, pathology, proteinAbundance, variant.\\n- The relation between subject and object should be chosen from the following list: increase, decrease, positiveCorrelation, negativeCorrelation, analogous, association, biomarkerFor, causesNoChange, directlyDecreases, directlyIncreases, hasActivity, hasComponent, hasComponents, hasMember, hasMembers, increases, isA, orthologous, prognosticBiomarkerFor, rateLimitingStepOf, regulates, subProcessOf, transcribedTo, translatedTo.\\n- Please provide the support evidence by including the sentence that contains the extracted BEL triple.\\n- Use  Namespaces to unambiguously reference concepts. \\n- Associate prefix HGNC for human loci, including protein coding genes, ncRNA genes and pseudogenes.\\n- Associate prefix CHEBI for molecular entities focused on small chemical compounds.\\n- Associate prefix GO to unify the representation of gene and gene product attributes across all species.\\n- Associate prefix MeSH for indexing articles for PubMed.\\n- Associate prefix miRBase which is a biological database that acts as an archive of microRNA sequences and annotations before miRNA names.\\n- Associate prefix MGI which is official gene symbol for a mouse gene.\\n- Associate prefix DO as a standardized ontology for human disease.\\n- Before each subject or object, use one of the BEL functions from the following: abundance, activity, biologicalProcess, pathology, proteinAbundance, variant.\\n\\nExample Triple:\\nTriple1:\\nsubject: biologicalProcess(GO:\"response to fluid shear stress\")\\nrelation: increases\\nobject: rnaAbundance(HGNC:NOS3)\\nsupport evidence: NO is generated by endothelial NO synthase (eNOS, or NOS3), the activity of which is increased by fluid shear stress through various mechanisms.\\n(Note: Ensure that the extracted BEL triples adhere to the specified format and namespaces.)'\r\n",
    "} ]\r\n",
    "      temperature = 0\r\n",
    "      abstract = abstracts[pmid]\r\n",
    "      message = \"Extract all BEL triples for each sentence and provide support evidence for each triple from the following :\" + abstract            \r\n",
    "      if message:\r\n",
    "            messages.append(\r\n",
    "            {\"role\": \"user\", \"content\": message},)\r\n",
    "            chat = openai.ChatCompletion.create(top_p = 0.1, model=\"gpt-4\", messages=messages, )\r\n",
    "            ''''''\r\n",
    "      #model=\"gpt-3.5-turbo\"\r\n",
    "      reply = chat.choices[0].message.content\r\n",
    "      print(reply)\r\n",
    "      file = open(str(pmid)+\"prompt3GPT4\"+\"top_p0.1-\"+str(i)+\".txt\", \"w\", encoding='utf-8')\r\n",
    "      file.write(reply)\r\n",
    "      file.close()\r\n",
    "      messages.append({\"role\": \"assistant\", \"content\": reply})\r\n",
    "   except Exception as e:\r\n",
    "      print(e)"
   ],
   "outputs": [
    {
     "output_type": "stream",
     "name": "stderr",
     "text": [
      " 10%|█         | 1/10 [00:37<05:41, 37.89s/it]"
     ]
    },
    {
     "output_type": "stream",
     "name": "stdout",
     "text": [
      "Triple1:\n",
      "subject: proteinAbundance(HGNC:MAPT)\n",
      "relation: association\n",
      "object: pathology(DO:\"Alzheimer's disease\")\n",
      "support evidence: Hyperphosphorylated forms of the neuronal microtubule (MT)-associated protein tau are major components of Alzheimer's disease paired helical filaments.\n",
      "\n",
      "Triple2:\n",
      "subject: proteinAbundance(HGNC:PPP2CA)\n",
      "relation: directlyIncreases\n",
      "object: proteinAbundance(HGNC:MAPT)\n",
      "support evidence: Previously, we reported that ABalphaC, the dominant brain isoform of protein phosphatase 2A (PP2A), is localized on MTs, binds directly to tau, and is a major tau phosphatase in cells.\n",
      "\n",
      "Triple3:\n",
      "subject: proteinAbundance(HGNC:PPP2CA)\n",
      "relation: association\n",
      "object: proteinAbundance(HGNC:MAPT)\n",
      "support evidence: We now describe direct interactions among tau, PP2A, and MTs at the submolecular level.\n",
      "\n",
      "Triple4:\n",
      "subject: proteinAbundance(HGNC:PPP2CA)\n",
      "relation: directlyDecreases\n",
      "object: proteinAbundance(HGNC:MAPT)\n",
      "support evidence: Specific PP2A isoforms bind to MTs with distinct affinities in vitro, and these interactions differentially inhibit the ability of PP2A to dephosphorylate various substrates, including tau and tubulin.\n",
      "\n",
      "Triple5:\n",
      "subject: biologicalProcess(GO:\"tubulin assembly\")\n",
      "relation: decreases\n",
      "object: activity(HGNC:PPP2CA)\n",
      "support evidence: Finally, tubulin assembly decreases PP2A activity in vitro, suggesting that PP2A activity can be modulated by MT dynamics in vivo.\n",
      "\n",
      "Triple6:\n",
      "subject: proteinAbundance(HGNC:MAPT)\n",
      "relation: association\n",
      "object: pathology(DO:\"tauopathies\")\n",
      "support evidence: Disruption of these normal interactions could contribute significantly to development of tauopathies such as Alzheimer's disease.\n"
     ]
    }
   ],
   "metadata": {}
  },
  {
   "cell_type": "code",
   "execution_count": 5,
   "source": [],
   "outputs": [],
   "metadata": {}
  },
  {
   "cell_type": "code",
   "execution_count": 3,
   "source": [
    "with open('abstracts.pkl', 'rb') as f:\r\n",
    "    abstracts = pickle.load(f)\r\n",
    "\r\n",
    "print(len(abstracts))"
   ],
   "outputs": [
    {
     "output_type": "stream",
     "name": "stdout",
     "text": [
      "250\n"
     ]
    }
   ],
   "metadata": {}
  },
  {
   "cell_type": "code",
   "execution_count": null,
   "source": [
    "#Run on the whole corpora of Tau\r\n",
    "with open('abstracts-checked.pkl', 'rb') as f:\r\n",
    "    abstracts = pickle.load(f)\r\n",
    "cwd = os.getcwd()\r\n",
    "for i in range(5,6):\r\n",
    "    for pmid in tqdm(abstracts.keys()):\r\n",
    "        if os.path.exists('chatgpt-responses/gpt-4/Prompt-2/setting-1/trial-{i_}'.format(i_=i)+'/'+str(pmid)+'.txt'): #Skip already processed docs\r\n",
    "            print(\" >>>> skipping\", pmid, '...')\r\n",
    "        else:\r\n",
    "            try:\r\n",
    "                messages = [ {\"role\": \"system\",\r\n",
    "    \"content\": 'Extract BEL Triples:\\n- Your task is to extract Biological Expression Language (BEL) triples from provided text.\\n- A BEL triple consists of three components: subject, relation, and object.\\nThe subject and object should be entities categorized into specific namespaces, such as MESH for diseases or biological processes, HGNC for genes, GO for gene functions, and CHEBI for chemicals.\\n- Each subject or object should be preceded by one of the BEL functions: abundance, activity, biologicalProcess, pathology, proteinAbundance, variant.\\n- The relation between subject and object should be chosen from the following list: increase, decrease, positiveCorrelation, negativeCorrelation, analogous, association, biomarkerFor, causesNoChange, directlyDecreases, directlyIncreases, hasActivity, hasComponent, hasComponents, hasMember, hasMembers, increases, isA, orthologous, prognosticBiomarkerFor, rateLimitingStepOf, regulates, subProcessOf, transcribedTo, translatedTo.\\n- Please provide the support evidence by including the sentence that contains the extracted BEL triple.\\n- Use  Namespaces to unambiguously reference concepts. \\n- Associate prefix HGNC for human loci, including protein coding genes, ncRNA genes and pseudogenes.\\n- Associate prefix CHEBI for molecular entities focused on small chemical compounds.\\n- Associate prefix GO to unify the representation of gene and gene product attributes across all species.\\n- Associate prefix MeSH for indexing articles for PubMed.\\n- Associate prefix miRBase which is a biological database that acts as an archive of microRNA sequences and annotations before miRNA names.\\n- Associate prefix MGI which is official gene symbol for a mouse gene.\\n- Associate prefix DO as a standardized ontology for human disease.\\n- Before each subject or object, use one of the BEL functions from the following: abundance, activity, biologicalProcess, pathology, proteinAbundance, variant.\\n\\nExample Triple:\\nTriple1:\\nsubject: biologicalProcess(GO:\"response to fluid shear stress\")\\nrelation: increases\\nobject: rnaAbundance(HGNC:NOS3)\\nsupport evidence: NO is generated by endothelial NO synthase (eNOS, or NOS3), the activity of which is increased by fluid shear stress through various mechanisms.\\n(Note: Ensure that the extracted BEL triples adhere to the specified format and namespaces.)'} ]\r\n",
    "                time.sleep(2)\r\n",
    "                # temperature = 0  (using default)\r\n",
    "                top_p = 0.1\r\n",
    "                abstract = abstracts[pmid]\r\n",
    "                message = \"Extract all BEL triples for each sentence and provide support evidence for each triple from the following :\" + abstract         \r\n",
    "                if message:\r\n",
    "                    messages.append(\r\n",
    "                    {\"role\": \"user\", \"content\": message},)\r\n",
    "                    chat = openai.ChatCompletion.create(top_p = .1, model=\"gpt-4\", messages=messages, )\r\n",
    "                    ''''''\r\n",
    "                #model=\"gpt-3.5-turbo\"\r\n",
    "                #model = \"gpt-4\"\r\n",
    "                reply = chat.choices[0].message.content\r\n",
    "                #print(reply)\r\n",
    "                file = open(cwd+\"/chatgpt-responses/gpt-4/Prompt-2/setting-1/trial-{i_}/\".format(i_=i)+str(pmid)+\".txt\", \"w+\", encoding='utf-8')\r\n",
    "                file.write(reply)\r\n",
    "                file.close()\r\n",
    "                messages.append({\"role\": \"assistant\", \"content\": reply})\r\n",
    "                #time.sleep(5)\r\n",
    "            except Exception as e:\r\n",
    "                time.sleep(2)\r\n",
    "                print(e)"
   ],
   "outputs": [],
   "metadata": {}
  },
  {
   "cell_type": "code",
   "execution_count": null,
   "source": [
    "#Run on the whole full texts chunks provided by Juergen\r\n",
    "path_cwd = str(os.getcwd())\r\n",
    "path = path_cwd+\"/fulltext-chunked-Juergen/\"\r\n",
    "print(path)\r\n",
    "file_list = glob.glob(path + \"/*.csv\")\r\n",
    "excl_list = []\r\n",
    "all_triples = []\r\n",
    "not_compiled = []\r\n",
    "for file in tqdm(file_list):\r\n",
    "    #print(file)\r\n",
    "    df = pd.read_csv(file)\r\n",
    "    #print(df)\r\n",
    "    # for col in excel_part.columns:\r\n",
    "    #     print(col)\r\n",
    "    for index, row in df.iterrows():\r\n",
    "        pmcid = row[\"pmcid\"]\r\n",
    "        chunk = row[\"chunk\"]\r\n",
    "        if os.path.exists(path_cwd+'/chatgpt-responses-fulltext/gpt4/trial4/{pmcid_}'.format(pmcid_ = pmcid)+'.txt'): #Skip already processed docs\r\n",
    "            print(\" >>>> skipping\", pmcid, '...')\r\n",
    "        else:\r\n",
    "            try:\r\n",
    "                messages = [ {\"role\": \"system\",\r\n",
    "    \"content\": 'Extract BEL Triples:\\n- Your task is to extract Biological Expression Language (BEL) triples from provided text.\\n- A BEL triple consists of three components: subject, relation, and object.\\nThe subject and object should be entities categorized into specific namespaces, such as MESH for diseases or biological processes, HGNC for genes, GO for gene functions, and CHEBI for chemicals.\\n- Each subject or object should be preceded by one of the BEL functions: abundance, activity, biologicalProcess, pathology, proteinAbundance, variant.\\n- The relation between subject and object should be chosen from the following list: increase, decrease, positiveCorrelation, negativeCorrelation, analogous, association, biomarkerFor, causesNoChange, directlyDecreases, directlyIncreases, hasActivity, hasComponent, hasComponents, hasMember, hasMembers, increases, isA, orthologous, prognosticBiomarkerFor, rateLimitingStepOf, regulates, subProcessOf, transcribedTo, translatedTo.\\n- Please provide the support evidence by including the sentence that contains the extracted BEL triple.\\n- Use  Namespaces to unambiguously reference concepts. \\n- Associate prefix HGNC for human loci, including protein coding genes, ncRNA genes and pseudogenes.\\n- Associate prefix CHEBI for molecular entities focused on small chemical compounds.\\n- Associate prefix GO to unify the representation of gene and gene product attributes across all species.\\n- Associate prefix MeSH for indexing articles for PubMed.\\n- Associate prefix miRBase which is a biological database that acts as an archive of microRNA sequences and annotations before miRNA names.\\n- Associate prefix MGI which is official gene symbol for a mouse gene.\\n- Associate prefix DO as a standardized ontology for human disease.\\n- Before each subject or object, use one of the BEL functions from the following: abundance, activity, biologicalProcess, pathology, proteinAbundance, variant.\\n\\nExample Triple:\\nTriple1:\\nsubject: biologicalProcess(GO:\"response to fluid shear stress\")\\nrelation: increases\\nobject: rnaAbundance(HGNC:NOS3)\\nsupport evidence: NO is generated by endothelial NO synthase (eNOS, or NOS3), the activity of which is increased by fluid shear stress through various mechanisms.\\n(Note: Ensure that the extracted BEL triples adhere to the specified format and namespaces.)'} ]\r\n",
    "                time.sleep(2)\r\n",
    "                # temperature = 0  (using default)\r\n",
    "                top_p = 0.1\r\n",
    "                text = chunk\r\n",
    "                message = \"Extract all BEL triples for each sentence and provide support evidence for each triple from the following :\" + text         \r\n",
    "                if message:\r\n",
    "                    messages.append(\r\n",
    "                    {\"role\": \"user\", \"content\": message},)\r\n",
    "                    chat = openai.ChatCompletion.create(top_p = .1, model=\"gpt-4\", messages=messages, )\r\n",
    "                    ''''''\r\n",
    "                #model=\"gpt-3.5-turbo\"\r\n",
    "                #model = \"gpt-4\"\r\n",
    "                reply = chat.choices[0].message.content\r\n",
    "                #print(reply)\r\n",
    "                file = open(path_cwd+\"/chatgpt-responses-fulltext/gpt4/trial4/{pmcid_}\".format(pmcid_ = pmcid)+\".txt\", \"w+\", encoding='utf-8')\r\n",
    "                file.write(reply)\r\n",
    "                file.close()\r\n",
    "                messages.append({\"role\": \"assistant\", \"content\": reply})\r\n",
    "                time.sleep(5)\r\n",
    "            except Exception as e:\r\n",
    "                time.sleep(5)\r\n",
    "                print(e)\r\n",
    "        "
   ],
   "outputs": [],
   "metadata": {}
  },
  {
   "cell_type": "code",
   "execution_count": 19,
   "source": [
    "import os\r\n",
    "os.getcwd()"
   ],
   "outputs": [
    {
     "output_type": "execute_result",
     "data": {
      "text/plain": [
       "'/Users/neginbabaiha/Documents/GitHub/chatgpt-paper'"
      ]
     },
     "metadata": {},
     "execution_count": 19
    }
   ],
   "metadata": {}
  },
  {
   "cell_type": "markdown",
   "source": [],
   "metadata": {}
  }
 ],
 "metadata": {
  "interpreter": {
   "hash": "0600588c3b5f4418cbe7b5ebc6825b479f3bc010269d8b60d75058cdd010adfe"
  },
  "kernelspec": {
   "name": "python3",
   "display_name": "Python 3.7.9 64-bit"
  },
  "language_info": {
   "codemirror_mode": {
    "name": "ipython",
    "version": 3
   },
   "file_extension": ".py",
   "mimetype": "text/x-python",
   "name": "python",
   "nbconvert_exporter": "python",
   "pygments_lexer": "ipython3",
   "version": "3.7.9"
  },
  "orig_nbformat": 4
 },
 "nbformat": 4,
 "nbformat_minor": 2
}